{
 "cells": [
  {
   "cell_type": "code",
   "execution_count": null,
   "id": "5eeecc89",
   "metadata": {},
   "outputs": [],
   "source": [
    "conda create --name python3.6 python=3.6"
   ]
  },
  {
   "cell_type": "code",
   "execution_count": null,
   "id": "9a88ac36",
   "metadata": {},
   "outputs": [],
   "source": [
    "conda env list"
   ]
  },
  {
   "cell_type": "code",
   "execution_count": null,
   "id": "599c8e2e",
   "metadata": {},
   "outputs": [],
   "source": [
    "conda activate python3.6"
   ]
  },
  {
   "cell_type": "code",
   "execution_count": null,
   "id": "218a305a",
   "metadata": {},
   "outputs": [],
   "source": [
    "pip install ipykernel\n",
    "\n",
    "# python -m ipykernel install --user --name opentutorials --display-name \"opentutorials\"\n",
    "python -m ipykernel install --user --name python3.6 --display-name \"python3.6\"\n",
    "\n",
    "jupyter notebook"
   ]
  },
  {
   "cell_type": "code",
   "execution_count": null,
   "id": "d172faea",
   "metadata": {},
   "outputs": [],
   "source": []
  }
 ],
 "metadata": {
  "kernelspec": {
   "display_name": "Python 3 (ipykernel)",
   "language": "python",
   "name": "python3"
  },
  "language_info": {
   "codemirror_mode": {
    "name": "ipython",
    "version": 3
   },
   "file_extension": ".py",
   "mimetype": "text/x-python",
   "name": "python",
   "nbconvert_exporter": "python",
   "pygments_lexer": "ipython3",
   "version": "3.10.9"
  }
 },
 "nbformat": 4,
 "nbformat_minor": 5
}
